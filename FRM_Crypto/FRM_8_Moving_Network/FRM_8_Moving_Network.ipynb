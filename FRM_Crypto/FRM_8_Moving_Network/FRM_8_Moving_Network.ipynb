{
 "cells": [
  {
   "cell_type": "code",
   "execution_count": 2,
   "metadata": {},
   "outputs": [],
   "source": [
    "import networkx as nx\n",
    "import pandas as pd\n",
    "import numpy as np\n",
    "import matplotlib.pyplot as plt"
   ]
  },
  {
   "cell_type": "code",
   "execution_count": 11,
   "metadata": {},
   "outputs": [],
   "source": [
    "coefMat = pd.read_csv('coefficient matrix.csv')\n",
    "data = pd.read_csv('1718hourlyReturn_withZEC.csv')\n",
    "macro = pd.read_csv('macro1718_return.csv')"
   ]
  },
  {
   "cell_type": "code",
   "execution_count": 4,
   "metadata": {},
   "outputs": [],
   "source": [
    "# set the time frame for analysis\n",
    "\n",
    "timeAna = data.time[48:]\n",
    "timeAna.index =range(len(timeAna))\n",
    "start, end = timeAna.index[timeAna=='12/15/2017 0:00'], timeAna.index[timeAna=='12/22/2017 0:00']\n",
    "start, end = int(start.values), int(end.values)\n",
    "timeAna = timeAna[start:end]"
   ]
  },
  {
   "cell_type": "markdown",
   "metadata": {},
   "source": [
    "# Moving Network"
   ]
  },
  {
   "cell_type": "code",
   "execution_count": 14,
   "metadata": {
    "scrolled": true
   },
   "outputs": [],
   "source": [
    "for time in timeAna: \n",
    "    t = int(timeAna.index[timeAna == time].values)\n",
    "    hourlyMat = coefMat.iloc[:,(14*t):14*(t+1)]\n",
    "    \n",
    "    # create the nodes\n",
    "    G = nx.DiGraph()\n",
    "    G.add_nodes_from(data.columns[1:], category = 'coin')\n",
    "    G.add_nodes_from(macro.columns[1:], category = 'macro')\n",
    "    \n",
    "    # create the edges\n",
    "    nodes = list(G.nodes())\n",
    "    for i in range(hourlyMat.shape[0]):\n",
    "        for j in range(hourlyMat.shape[1]):\n",
    "            if hourlyMat.iloc[i,j] != 0:\n",
    "                G.add_edges_from([(nodes[j], nodes[i])], weight = abs(hourlyMat.iloc[i,j]), direction = np.sign(hourlyMat.iloc[i,j]))\n",
    "\n",
    "    # distinguish the nodes between coins and macro variables            \n",
    "    col = []\n",
    "    for x in nx.get_node_attributes(G,'category').values():\n",
    "        if x =='coin':\n",
    "            col.append('orange')\n",
    "        else:\n",
    "            col.append('lightblue')\n",
    "    \n",
    "    # generate a circular network graph\n",
    "    edges,weights = zip(*nx.get_edge_attributes(G,'weight').items())\n",
    "    pos = nx.circular_layout(G)\n",
    "    count = np.count_nonzero(hourlyMat, axis=0)\n",
    "    plt.figure(figsize= (5,5)) # 20,20\n",
    "    plt.title(f'Date: {time}', fontsize = 12, loc = 'right')\n",
    "    nx.draw(G, pos, node_size = count*100, node_color = col, edgelist=edges, width=weights, with_labels = True,\n",
    "           alpha = 0.8, arrowstyle = '->', font_size = 12) \n",
    "#     plt.savefig(\"graph{:04d}.png\".format(t+1), format=\"PNG\")"
   ]
  },
  {
   "cell_type": "markdown",
   "metadata": {},
   "source": [
    "## Creating a gif file for the moving network"
   ]
  },
  {
   "cell_type": "code",
   "execution_count": 16,
   "metadata": {},
   "outputs": [],
   "source": [
    "# create respective folders 'png' and 'gif' and move the individual network graphics into the 'png' folder.\n",
    "# after running this code, the created gif file will be saved in the 'gif' folder\n",
    "import os\n",
    "import imageio\n",
    "\n",
    "png_dir = 'C:/Users/Seokhee2/Documents/HU/WiSe1920/Digital Economy and Data Analysis/project/png'\n",
    "images = []\n",
    "for file_name in os.listdir(png_dir):\n",
    "    if file_name.endswith('.png'):\n",
    "        file_path = os.path.join(png_dir, file_name)\n",
    "        images.append(imageio.imread(file_path))\n",
    "imageio.mimsave('C:/Users/Seokhee2/Documents/HU/WiSe1920/Digital Economy and Data Analysis/project/gif/moving_network.gif', images)"
   ]
  }
 ],
 "metadata": {
  "kernelspec": {
   "display_name": "Python 3",
   "language": "python",
   "name": "python3"
  },
  "language_info": {
   "codemirror_mode": {
    "name": "ipython",
    "version": 3
   },
   "file_extension": ".py",
   "mimetype": "text/x-python",
   "name": "python",
   "nbconvert_exporter": "python",
   "pygments_lexer": "ipython3",
   "version": "3.7.4"
  }
 },
 "nbformat": 4,
 "nbformat_minor": 2
}
