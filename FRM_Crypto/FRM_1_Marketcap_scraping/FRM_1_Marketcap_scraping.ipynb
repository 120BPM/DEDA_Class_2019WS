{
 "cells": [
  {
   "cell_type": "markdown",
   "metadata": {},
   "source": [
    "## Market Cap for 2017-2019 for 200 coins as well as total market Cap"
   ]
  },
  {
   "cell_type": "code",
   "execution_count": 22,
   "metadata": {
    "scrolled": false
   },
   "outputs": [],
   "source": [
    "import pandas as pd\n",
    "import numpy as np\n",
    "import requests\n",
    "import re\n",
    "from bs4 import BeautifulSoup\n",
    "from time import sleep\n",
    "\n",
    "# Create date range for historical snapshots\n",
    "Date = pd.date_range(start='20170101', end='20191120', freq='7D').strftime('%Y%m%d')\n",
    "\n",
    "result = np.empty((201,1))\n",
    "for date in Date:\n",
    "\n",
    "    # Retrieve historical snapshot data from date\n",
    "    page = requests.get('https://coinmarketcap.com/historical/'+date)\n",
    "    soup = BeautifulSoup(page.content, 'html.parser')\n",
    "    \n",
    "    # Extract html containers for each coin\n",
    "    coin_containers = soup.find_all('tr', class_ = 'cmc-table-row')\n",
    "    \n",
    "    # Extract total Market Cap of the day\n",
    "    totalMarketCapStr = soup.find('div', class_ = 'cmc-table-listing-footer sc-1jhjsq2-0 iInShT').text\n",
    "    totalMarketCapStr = totalMarketCapStr[totalMarketCapStr.index('$'):]\n",
    "    totalMarketCap = float(re.sub(r',|\\$', '', totalMarketCapStr.strip()))\n",
    "    \n",
    "    daily = (date,totalMarketCap)\n",
    "    for coin in coin_containers:\n",
    "\n",
    "        coin_name = coin.find('td', class_ = 'cmc-table__cell cmc-table__cell--sortable cmc-table__cell--left cmc-table__cell--sort-by__symbol').text\n",
    "        \n",
    "        mktCapStr = coin.find('td', class_ = 'cmc-table__cell cmc-table__cell--sortable cmc-table__cell--right cmc-table__cell--sort-by__volume-24-h').text\n",
    "        \n",
    "        # convert the string into float\n",
    "        mktCap = float(re.sub(r',|\\$', '', mktCapStr.strip()))    \n",
    "\n",
    "        daily = np.vstack((daily, (coin_name, mktCap)))\n",
    "    \n",
    "    \n",
    "    result = np.hstack((result, daily))\n",
    "    \n",
    "    sleep(20)\n",
    "# Delete the first redundant column\n",
    "result = result[:,1:]\n",
    "    \n",
    "# Create data frame of data\n",
    "df = pd.DataFrame(result)\n",
    "\n",
    "# Write data to file\n",
    "df.to_csv('total_market_cap17-19.csv', index = False)    \n",
    "    "
   ]
  }
 ],
 "metadata": {
  "kernelspec": {
   "display_name": "Python 3",
   "language": "python",
   "name": "python3"
  },
  "language_info": {
   "codemirror_mode": {
    "name": "ipython",
    "version": 3
   },
   "file_extension": ".py",
   "mimetype": "text/x-python",
   "name": "python",
   "nbconvert_exporter": "python",
   "pygments_lexer": "ipython3",
   "version": "3.7.4"
  }
 },
 "nbformat": 4,
 "nbformat_minor": 2
}
